{
 "cells": [
  {
   "cell_type": "markdown",
   "id": "39fac4b6-5975-4665-8b20-da7b1695b649",
   "metadata": {},
   "source": [
    "### Oppgåve 0 "
   ]
  },
  {
   "cell_type": "code",
   "execution_count": 1,
   "id": "537ed0dd-8512-4bca-8a46-c8391b785c29",
   "metadata": {
    "jupyter": {
     "source_hidden": true
    },
    "tags": []
   },
   "outputs": [],
   "source": [
    "def f0(x):\n",
    "    return 2*x+2"
   ]
  },
  {
   "cell_type": "code",
   "execution_count": 2,
   "id": "8b3b157f-6527-4d41-8634-34de614a5807",
   "metadata": {},
   "outputs": [
    {
     "data": {
      "text/plain": [
       "0"
      ]
     },
     "execution_count": 2,
     "metadata": {},
     "output_type": "execute_result"
    }
   ],
   "source": [
    "f0(-1)"
   ]
  },
  {
   "cell_type": "code",
   "execution_count": 3,
   "id": "b7f34d8f-46e8-4cb8-886b-ae57b0868a34",
   "metadata": {},
   "outputs": [
    {
     "data": {
      "text/plain": [
       "2"
      ]
     },
     "execution_count": 3,
     "metadata": {},
     "output_type": "execute_result"
    }
   ],
   "source": [
    "f0(0)"
   ]
  },
  {
   "cell_type": "code",
   "execution_count": 4,
   "id": "1bf110cf-0692-47c8-afb2-311ec1fbdee3",
   "metadata": {},
   "outputs": [
    {
     "data": {
      "text/plain": [
       "4"
      ]
     },
     "execution_count": 4,
     "metadata": {},
     "output_type": "execute_result"
    }
   ],
   "source": [
    "f0(1)"
   ]
  },
  {
   "cell_type": "code",
   "execution_count": 5,
   "id": "e56210ef-1b24-4c8a-a645-bbd326fae0e4",
   "metadata": {},
   "outputs": [
    {
     "data": {
      "text/plain": [
       "6"
      ]
     },
     "execution_count": 5,
     "metadata": {},
     "output_type": "execute_result"
    }
   ],
   "source": [
    "f0(2)"
   ]
  },
  {
   "cell_type": "markdown",
   "id": "5760a060-f993-4c72-851e-eadf43c91490",
   "metadata": {},
   "source": [
    "### Oppg1 "
   ]
  },
  {
   "cell_type": "code",
   "execution_count": null,
   "id": "196362c0-5ea8-448f-b05c-34b46a11d861",
   "metadata": {
    "jupyter": {
     "source_hidden": true
    },
    "tags": []
   },
   "outputs": [],
   "source": [
    "def f1(x):\n",
    "    return 2*x-3"
   ]
  },
  {
   "cell_type": "code",
   "execution_count": null,
   "id": "27f57ec3-b26e-4d21-a1ea-1228e8221bc8",
   "metadata": {},
   "outputs": [],
   "source": [
    "f1(-1)"
   ]
  },
  {
   "cell_type": "code",
   "execution_count": null,
   "id": "757cddfd-6e32-47cc-ad5d-7a449ecbaa90",
   "metadata": {},
   "outputs": [],
   "source": [
    "f1(0)"
   ]
  },
  {
   "cell_type": "code",
   "execution_count": null,
   "id": "99164298-e131-4448-9d91-f0b485635db2",
   "metadata": {},
   "outputs": [],
   "source": [
    "f1(1)"
   ]
  },
  {
   "cell_type": "code",
   "execution_count": null,
   "id": "31f1708b-413d-4c4f-8415-61d8bdc41c1d",
   "metadata": {},
   "outputs": [],
   "source": [
    "f1(2)"
   ]
  },
  {
   "cell_type": "markdown",
   "id": "75ffa4a0-12fc-4a30-9044-46951c676020",
   "metadata": {},
   "source": [
    "### Oppgåve 2 "
   ]
  },
  {
   "cell_type": "code",
   "execution_count": null,
   "id": "24c60e75-b41b-4956-b317-a52e842af790",
   "metadata": {
    "jupyter": {
     "source_hidden": true
    },
    "tags": []
   },
   "outputs": [],
   "source": [
    "def f2(x):\n",
    "    return -3*x+2"
   ]
  },
  {
   "cell_type": "code",
   "execution_count": null,
   "id": "10152156-04a3-4f4d-a0c1-67cf562d6104",
   "metadata": {},
   "outputs": [],
   "source": [
    "f0(-1)"
   ]
  },
  {
   "cell_type": "code",
   "execution_count": null,
   "id": "032631a4-dee1-4525-86a2-0f3ca10c08ef",
   "metadata": {},
   "outputs": [],
   "source": [
    "f0(0)"
   ]
  },
  {
   "cell_type": "code",
   "execution_count": null,
   "id": "66d24223-acf5-4de1-af46-a7a0f8244fd2",
   "metadata": {},
   "outputs": [],
   "source": [
    "f0(1)"
   ]
  },
  {
   "cell_type": "code",
   "execution_count": null,
   "id": "c7c70782-8616-473d-a70c-d89a49a05e8c",
   "metadata": {},
   "outputs": [],
   "source": [
    "f0(2)"
   ]
  },
  {
   "cell_type": "markdown",
   "id": "879208f1-58bf-450c-824c-5cdf18a62f35",
   "metadata": {},
   "source": [
    "### Oppgåve 3"
   ]
  },
  {
   "cell_type": "code",
   "execution_count": null,
   "id": "4f708c8d-f42a-4f87-be44-3713ebe2f45b",
   "metadata": {
    "jupyter": {
     "source_hidden": true
    },
    "tags": []
   },
   "outputs": [],
   "source": [
    "def f3(x):\n",
    "    return (x+1)**2 "
   ]
  },
  {
   "cell_type": "code",
   "execution_count": null,
   "id": "44132380-34d9-4d6e-95e2-15eb1a864473",
   "metadata": {},
   "outputs": [],
   "source": [
    "f3(-1)"
   ]
  },
  {
   "cell_type": "code",
   "execution_count": null,
   "id": "5522df52-f0dd-4c5b-bfa9-65e53919bbd9",
   "metadata": {},
   "outputs": [],
   "source": [
    "f3(0)"
   ]
  },
  {
   "cell_type": "code",
   "execution_count": null,
   "id": "a2233764-01cc-4b17-b4c0-4b733c432f16",
   "metadata": {},
   "outputs": [],
   "source": [
    "f3(1)"
   ]
  },
  {
   "cell_type": "code",
   "execution_count": null,
   "id": "ba0458ae-689b-4d33-934e-347d348c9c3e",
   "metadata": {},
   "outputs": [],
   "source": [
    "f3(2)"
   ]
  },
  {
   "cell_type": "markdown",
   "id": "e889cde9-c03c-4106-a56b-b04a9e98038c",
   "metadata": {},
   "source": [
    "### Oppgåve 4"
   ]
  },
  {
   "cell_type": "code",
   "execution_count": null,
   "id": "2740add7-08c5-43c3-b87e-2eb0be9a5b25",
   "metadata": {
    "jupyter": {
     "source_hidden": true
    },
    "tags": []
   },
   "outputs": [],
   "source": [
    "def f4(x):\n",
    "    return (x-2)**2"
   ]
  },
  {
   "cell_type": "code",
   "execution_count": null,
   "id": "4c7ec272-f613-4bbf-894c-6313ab87a36f",
   "metadata": {},
   "outputs": [],
   "source": [
    "f4(-1)"
   ]
  },
  {
   "cell_type": "code",
   "execution_count": null,
   "id": "39cdc543-f60f-4ee6-83ca-015386aff396",
   "metadata": {},
   "outputs": [],
   "source": [
    "f4(0)"
   ]
  },
  {
   "cell_type": "code",
   "execution_count": null,
   "id": "634feb08-939f-4f27-b864-11d75ab24970",
   "metadata": {},
   "outputs": [],
   "source": [
    "f4(1)"
   ]
  },
  {
   "cell_type": "code",
   "execution_count": null,
   "id": "44be3021-93e5-4c2f-a6f3-5f255720d8ad",
   "metadata": {},
   "outputs": [],
   "source": [
    "f4(2)"
   ]
  },
  {
   "cell_type": "code",
   "execution_count": null,
   "id": "09e26280-36cb-4a93-963e-b435e4ee7232",
   "metadata": {},
   "outputs": [],
   "source": [
    "f4(3)"
   ]
  },
  {
   "cell_type": "markdown",
   "id": "f8c043ab-8013-496f-b18b-8ee52265d41e",
   "metadata": {},
   "source": [
    "### Oppgåve 5 "
   ]
  },
  {
   "cell_type": "code",
   "execution_count": null,
   "id": "2313af1b-77d9-4a95-97ea-7e28ecdb4f12",
   "metadata": {
    "jupyter": {
     "source_hidden": true
    },
    "tags": []
   },
   "outputs": [],
   "source": [
    "def f5(x):\n",
    "    return (x-1)*x"
   ]
  },
  {
   "cell_type": "code",
   "execution_count": null,
   "id": "9a557b03-05b2-4303-a8c4-3676acdf8883",
   "metadata": {},
   "outputs": [],
   "source": [
    "f5(-1)"
   ]
  },
  {
   "cell_type": "code",
   "execution_count": null,
   "id": "fb94e201-b7a0-4764-85b4-82d95c0e9abb",
   "metadata": {},
   "outputs": [],
   "source": [
    "f5(0)"
   ]
  },
  {
   "cell_type": "code",
   "execution_count": null,
   "id": "c0b8c20f-caee-4e50-890d-76681ed83415",
   "metadata": {},
   "outputs": [],
   "source": [
    "f5(1)"
   ]
  },
  {
   "cell_type": "code",
   "execution_count": null,
   "id": "e15235d9-b069-47c0-995f-7980b1505a29",
   "metadata": {},
   "outputs": [],
   "source": [
    "f5(2)"
   ]
  },
  {
   "cell_type": "code",
   "execution_count": null,
   "id": "70542ff5-8015-4d22-8b71-09c6c404ea95",
   "metadata": {},
   "outputs": [],
   "source": [
    "f5(3)"
   ]
  }
 ],
 "metadata": {
  "kernelspec": {
   "display_name": "Python 3 (ipykernel)",
   "language": "python",
   "name": "python3"
  },
  "language_info": {
   "codemirror_mode": {
    "name": "ipython",
    "version": 3
   },
   "file_extension": ".py",
   "mimetype": "text/x-python",
   "name": "python",
   "nbconvert_exporter": "python",
   "pygments_lexer": "ipython3",
   "version": "3.8.13"
  }
 },
 "nbformat": 4,
 "nbformat_minor": 5
}
