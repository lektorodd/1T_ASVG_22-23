{
 "cells": [
  {
   "cell_type": "markdown",
   "id": "3d9df12b-37de-4a9c-9639-b3d036555a72",
   "metadata": {},
   "source": [
    "# Utskrift, variablar og vilkår\n",
    "\n",
    "Grunnleggande Python til bruk i matematikk 1T. "
   ]
  },
  {
   "cell_type": "markdown",
   "id": "8658f272-50a1-40cf-8e5a-869e1c2e04dc",
   "metadata": {},
   "source": [
    "## Utskrift\n",
    "\n",
    "Me kan be programmet vårt skriva ut ulike ting. Til dømes tekst, svar på utrekningar som er gjort eller liknande. <br> Me bruker kommandoen `print` til dette:"
   ]
  },
  {
   "cell_type": "code",
   "execution_count": null,
   "id": "0e278069-50f9-4326-b6f5-487c496e2a6b",
   "metadata": {},
   "outputs": [],
   "source": []
  },
  {
   "cell_type": "markdown",
   "id": "69da6032-f064-45b1-9abc-475d0f88f1c0",
   "metadata": {},
   "source": [
    "For å fortelja programmet at me vil skriva ut tekst brukar me \"\". Prøver me uten, vil me få feilmelding. <br> \n",
    "Prøv sjølv og sjå kva som skjer:"
   ]
  },
  {
   "cell_type": "code",
   "execution_count": null,
   "id": "15478193-3aa5-4214-9c31-7627844d8042",
   "metadata": {},
   "outputs": [],
   "source": []
  },
  {
   "cell_type": "markdown",
   "id": "71ebfccc-c98d-4d6b-8fc4-ab31f42649e5",
   "metadata": {},
   "source": [
    "Nokre andre døme på utskrift:"
   ]
  },
  {
   "cell_type": "code",
   "execution_count": null,
   "id": "787b129f-b8f3-4478-b5b0-376df7563bfe",
   "metadata": {},
   "outputs": [],
   "source": []
  },
  {
   "cell_type": "markdown",
   "id": "2ec04fc9-4177-4320-bded-88890d8aea4a",
   "metadata": {},
   "source": [
    "## Variablar\n",
    "\n",
    "Informasjon kan lagrast i programmet. Til det bruker me variablar. No skal me sjå litt på korleis dei kan brukast, og dei ulike typane variablar me kjem til å bruka. "
   ]
  },
  {
   "cell_type": "code",
   "execution_count": null,
   "id": "c76c00f2-7124-4336-8531-89f4d48084d1",
   "metadata": {},
   "outputs": [],
   "source": []
  },
  {
   "cell_type": "markdown",
   "id": "443a1686-e5e4-4d4b-ac7b-8adff710cbc7",
   "metadata": {},
   "source": [
    "## Vilkår (og boolske variablar) \n",
    "\n",
    "Me kan ta val i programmet ut frå ulike vilkår. **Dersom** `vilkår` **så** `handling`. \n",
    "\n",
    "Me bruker `if`-setningar til dette: "
   ]
  },
  {
   "cell_type": "code",
   "execution_count": null,
   "id": "3de61699-e663-49d5-92ad-44d255f38b60",
   "metadata": {},
   "outputs": [],
   "source": []
  },
  {
   "cell_type": "markdown",
   "id": "1fb3d012-d51a-43db-bfc6-b69f24a95e68",
   "metadata": {},
   "source": [
    "## Oppgåver\n",
    "\n",
    "Her er eit par oppgåver for å trena på det me har gått gjennom så langt. "
   ]
  },
  {
   "cell_type": "code",
   "execution_count": null,
   "id": "a9f6add6-eaff-4fbe-b61f-b2b9c3bf3ead",
   "metadata": {},
   "outputs": [],
   "source": []
  }
 ],
 "metadata": {
  "kernelspec": {
   "display_name": "Python 3 (ipykernel)",
   "language": "python",
   "name": "python3"
  },
  "language_info": {
   "codemirror_mode": {
    "name": "ipython",
    "version": 3
   },
   "file_extension": ".py",
   "mimetype": "text/x-python",
   "name": "python",
   "nbconvert_exporter": "python",
   "pygments_lexer": "ipython3",
   "version": "3.8.13"
  }
 },
 "nbformat": 4,
 "nbformat_minor": 5
}
