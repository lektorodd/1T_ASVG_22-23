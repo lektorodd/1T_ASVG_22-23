{
 "cells": [
  {
   "cell_type": "markdown",
   "id": "b2fe24c3-b215-4e9e-80a1-0eff42a20a01",
   "metadata": {},
   "source": [
    "# Løkker og funksjonar (utkast)\n",
    "\n",
    "Grunnleggande Python til bruk i matematikk 1T. "
   ]
  },
  {
   "cell_type": "markdown",
   "id": "78e2fae4-d079-42ab-ade2-15eba53e6630",
   "metadata": {},
   "source": [
    "## Løkker\n",
    "\n",
    "Løkker (engelsk: *loops*) bruker me når for å repetera kode. Me ser på to ulike typar, `for` og `while`.  "
   ]
  },
  {
   "cell_type": "markdown",
   "id": "1b32a95d-bff7-48dd-b8af-c1d8798677c8",
   "metadata": {},
   "source": [
    "### `for`-løkke\n",
    "\n",
    "`for`-løkker er nyttige når me veit kor mange gongar me skal repetera koden."
   ]
  },
  {
   "cell_type": "code",
   "execution_count": 1,
   "id": "5d70e792-7406-4170-ac1e-0d8a38964bb6",
   "metadata": {},
   "outputs": [
    {
     "name": "stdout",
     "output_type": "stream",
     "text": [
      "0\n",
      "1\n",
      "2\n",
      "3\n",
      "4\n"
     ]
    }
   ],
   "source": [
    "for i in range(5): # stopp\n",
    "    print(i)"
   ]
  },
  {
   "cell_type": "code",
   "execution_count": 3,
   "id": "901b74e2-e9bd-4b32-86bb-970565af8181",
   "metadata": {},
   "outputs": [
    {
     "name": "stdout",
     "output_type": "stream",
     "text": [
      "3\n",
      "4\n",
      "5\n",
      "6\n",
      "7\n",
      "8\n"
     ]
    }
   ],
   "source": [
    "for i in range(3, 9): # start, stopp\n",
    "    print(i)"
   ]
  },
  {
   "cell_type": "code",
   "execution_count": 4,
   "id": "d2eb58b6-3bd2-4fb4-baad-07971aaae0de",
   "metadata": {},
   "outputs": [
    {
     "name": "stdout",
     "output_type": "stream",
     "text": [
      "2\n",
      "4\n",
      "6\n",
      "8\n",
      "10\n"
     ]
    }
   ],
   "source": [
    "for i in range(2, 12, 2): # start, stopp, steglengde\n",
    "    print(i)"
   ]
  },
  {
   "cell_type": "markdown",
   "id": "e19c7860-ef95-4d89-a45b-e17e6e007dfd",
   "metadata": {},
   "source": [
    "for-løkker er fine å bruka viss ein t.d. skal skriva ut elementa i ei liste kvar for seg:"
   ]
  },
  {
   "cell_type": "code",
   "execution_count": 2,
   "id": "36908718-b758-4317-bcaf-9cdd094226f0",
   "metadata": {},
   "outputs": [
    {
     "name": "stdout",
     "output_type": "stream",
     "text": [
      "Lars\n",
      "Maria\n",
      "Tove\n",
      "Helge\n",
      "Torild\n",
      "Torrey\n"
     ]
    }
   ],
   "source": [
    "namneliste = [\"Lars\", \"Maria\", \"Tove\", \"Helge\", \"Torild\", \"Torrey\"]\n",
    "\n",
    "for namn in namneliste:\n",
    "    print(namn)"
   ]
  },
  {
   "cell_type": "markdown",
   "id": "5a5c08db-8deb-4fd3-a545-a295ff6dfbf5",
   "metadata": {},
   "source": [
    "### `while`-løkke \n",
    "\n",
    "`while`-løkker bruker me når me ikkje veit kor mange repetisjonar me må ha for oppnå det resultatet me ønsker. "
   ]
  },
  {
   "cell_type": "code",
   "execution_count": 5,
   "id": "725851e0-91be-4ee5-92f0-0a1fd991d7e0",
   "metadata": {},
   "outputs": [
    {
     "name": "stdout",
     "output_type": "stream",
     "text": [
      "50.0\n",
      "25.0\n",
      "12.5\n",
      "6.25\n",
      "3.125\n",
      "1.5625\n",
      "0.78125\n"
     ]
    }
   ],
   "source": [
    "tal = 100\n",
    "\n",
    "while tal > 1:\n",
    "    tal = tal/2\n",
    "    print(tal)"
   ]
  },
  {
   "cell_type": "code",
   "execution_count": 6,
   "id": "07a19886-af13-4cc9-a87a-ae80a2c58013",
   "metadata": {},
   "outputs": [
    {
     "name": "stdout",
     "output_type": "stream",
     "text": [
      "100\n",
      "50.0\n",
      "25.0\n",
      "12.5\n",
      "6.25\n",
      "3.125\n",
      "1.5625\n"
     ]
    }
   ],
   "source": [
    "tal = 100\n",
    "\n",
    "while tal > 1:\n",
    "    print(tal)\n",
    "    tal = tal/2"
   ]
  },
  {
   "cell_type": "markdown",
   "id": "8cc1a920-dfeb-45a6-93d9-15629776a714",
   "metadata": {},
   "source": [
    "## Funksjonar"
   ]
  },
  {
   "cell_type": "code",
   "execution_count": 9,
   "id": "a373e7ec-668f-488f-9101-44379fca28fe",
   "metadata": {},
   "outputs": [
    {
     "name": "stdout",
     "output_type": "stream",
     "text": [
      "314.16\n"
     ]
    }
   ],
   "source": [
    "import numpy as np\n",
    "\n",
    "def omkrets(radius):\n",
    "    return np.pi*radius**2\n",
    "\n",
    "o = omkrets(10)\n",
    "\n",
    "print(f\"{o:.2f}\")"
   ]
  },
  {
   "cell_type": "markdown",
   "id": "086f632d-bb9c-44f9-ae5c-97742032c00f",
   "metadata": {},
   "source": [
    "# Oppgåver\n",
    "\n",
    "- skrive ut dei 10 første kubikktala\n",
    "- alle tal mellom 1 og 100 som er deleleg med både 3 og 4. \n",
    "- kor mange år - prosentvis endring beløp -> verdi"
   ]
  },
  {
   "cell_type": "code",
   "execution_count": null,
   "id": "7d6c76be-0cd3-4198-ab0a-2270cd319d26",
   "metadata": {},
   "outputs": [],
   "source": []
  }
 ],
 "metadata": {
  "kernelspec": {
   "display_name": "Python 3 (ipykernel)",
   "language": "python",
   "name": "python3"
  },
  "language_info": {
   "codemirror_mode": {
    "name": "ipython",
    "version": 3
   },
   "file_extension": ".py",
   "mimetype": "text/x-python",
   "name": "python",
   "nbconvert_exporter": "python",
   "pygments_lexer": "ipython3",
   "version": "3.8.13"
  }
 },
 "nbformat": 4,
 "nbformat_minor": 5
}
