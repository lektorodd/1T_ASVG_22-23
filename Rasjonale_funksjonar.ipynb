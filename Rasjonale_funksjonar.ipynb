{
 "cells": [
  {
   "cell_type": "markdown",
   "id": "6b5e04a5-31be-4e14-b783-d3b62b4f4f6a",
   "metadata": {},
   "source": [
    "# Når nevner blir nesten 0\n",
    "\n",
    "Ser på ein rasjonal funksjon, kva som skjer når nevner nesten blir 0"
   ]
  },
  {
   "cell_type": "code",
   "execution_count": 1,
   "id": "702849c3-aad7-48b7-8b12-7c6cfce19057",
   "metadata": {},
   "outputs": [],
   "source": [
    "# definerer funksjonen\n",
    "def f(x):\n",
    "    return (3*x - 2) / (x + 2) "
   ]
  },
  {
   "cell_type": "code",
   "execution_count": 2,
   "id": "4d4619cf-dbb4-4f3e-b77a-56b323aa3977",
   "metadata": {},
   "outputs": [
    {
     "data": {
      "text/plain": [
       "-1.0"
      ]
     },
     "execution_count": 2,
     "metadata": {},
     "output_type": "execute_result"
    }
   ],
   "source": [
    "f(0)"
   ]
  },
  {
   "cell_type": "markdown",
   "id": "734307bc-3a33-4ef1-8d4f-94f4963bf71b",
   "metadata": {},
   "source": [
    "Ser av funksjonsuttrykket til funksjonen at nevnaren er null når x = -2. Testar med verdiar for x som nærmar seg -2. Heilt først ser me kva som skjer når x = -2."
   ]
  },
  {
   "cell_type": "code",
   "execution_count": 3,
   "id": "c2cd5701-e60d-4bca-9eba-fed5d6d08032",
   "metadata": {},
   "outputs": [
    {
     "ename": "ZeroDivisionError",
     "evalue": "division by zero",
     "output_type": "error",
     "traceback": [
      "\u001b[1;31m---------------------------------------------------------------------------\u001b[0m",
      "\u001b[1;31mZeroDivisionError\u001b[0m                         Traceback (most recent call last)",
      "Input \u001b[1;32mIn [3]\u001b[0m, in \u001b[0;36m<cell line: 1>\u001b[1;34m()\u001b[0m\n\u001b[1;32m----> 1\u001b[0m \u001b[43mf\u001b[49m\u001b[43m(\u001b[49m\u001b[38;5;241;43m-\u001b[39;49m\u001b[38;5;241;43m2\u001b[39;49m\u001b[43m)\u001b[49m\n",
      "Input \u001b[1;32mIn [1]\u001b[0m, in \u001b[0;36mf\u001b[1;34m(x)\u001b[0m\n\u001b[0;32m      2\u001b[0m \u001b[38;5;28;01mdef\u001b[39;00m \u001b[38;5;21mf\u001b[39m(x):\n\u001b[1;32m----> 3\u001b[0m     \u001b[38;5;28;01mreturn\u001b[39;00m \u001b[43m(\u001b[49m\u001b[38;5;241;43m3\u001b[39;49m\u001b[38;5;241;43m*\u001b[39;49m\u001b[43mx\u001b[49m\u001b[43m \u001b[49m\u001b[38;5;241;43m-\u001b[39;49m\u001b[43m \u001b[49m\u001b[38;5;241;43m2\u001b[39;49m\u001b[43m)\u001b[49m\u001b[43m \u001b[49m\u001b[38;5;241;43m/\u001b[39;49m\u001b[43m \u001b[49m\u001b[43m(\u001b[49m\u001b[43mx\u001b[49m\u001b[43m \u001b[49m\u001b[38;5;241;43m+\u001b[39;49m\u001b[43m \u001b[49m\u001b[38;5;241;43m2\u001b[39;49m\u001b[43m)\u001b[49m\n",
      "\u001b[1;31mZeroDivisionError\u001b[0m: division by zero"
     ]
    }
   ],
   "source": [
    "f(-2)"
   ]
  },
  {
   "cell_type": "markdown",
   "id": "16ae7ce1-2204-4d71-8985-3b8b52ddb35b",
   "metadata": {},
   "source": [
    "Ser at me får `ZeroDivisionError: division by zero` som kjem fordi me ender opp med 0 i nemnar. \n",
    "\n",
    "Prøver å nærma oss -2 frå oversida (høgresida)"
   ]
  },
  {
   "cell_type": "code",
   "execution_count": 4,
   "id": "b95d5a17-05c6-45f2-9a55-7691ea3e1be9",
   "metadata": {},
   "outputs": [
    {
     "data": {
      "text/plain": [
       "-13.0"
      ]
     },
     "execution_count": 4,
     "metadata": {},
     "output_type": "execute_result"
    }
   ],
   "source": [
    "f(-1.5)"
   ]
  },
  {
   "cell_type": "code",
   "execution_count": 5,
   "id": "033ba389-34c4-49fd-b222-4acd898ac583",
   "metadata": {},
   "outputs": [
    {
     "data": {
      "text/plain": [
       "-29.0"
      ]
     },
     "execution_count": 5,
     "metadata": {},
     "output_type": "execute_result"
    }
   ],
   "source": [
    "f(-1.75)"
   ]
  },
  {
   "cell_type": "code",
   "execution_count": 6,
   "id": "36b9ec7e-ec14-4528-8afb-b9359ba3b466",
   "metadata": {},
   "outputs": [
    {
     "data": {
      "text/plain": [
       "-76.99999999999993"
      ]
     },
     "execution_count": 6,
     "metadata": {},
     "output_type": "execute_result"
    }
   ],
   "source": [
    "f(-1.9)"
   ]
  },
  {
   "cell_type": "code",
   "execution_count": 7,
   "id": "106ed098-e963-4edf-8a49-0a4f767df0a9",
   "metadata": {},
   "outputs": [
    {
     "data": {
      "text/plain": [
       "-7999999335.077086"
      ]
     },
     "execution_count": 7,
     "metadata": {},
     "output_type": "execute_result"
    }
   ],
   "source": [
    "f(-1.999999999)"
   ]
  },
  {
   "cell_type": "markdown",
   "id": "25dd896e-b898-4755-82ab-2f2881340dfb",
   "metadata": {},
   "source": [
    "Ser at når $x\\rightarrow -2^+$ så vil $f(x)\\rightarrow -\\infty$ \n",
    "\n",
    "*når $x$ nærmar seg -2 frå høgresida funksjonsverdien gå mot minus uendeleg*"
   ]
  },
  {
   "cell_type": "code",
   "execution_count": 8,
   "id": "da3879e1-03c9-41be-bf69-fdb0b409460c",
   "metadata": {},
   "outputs": [
    {
     "data": {
      "text/plain": [
       "19.0"
      ]
     },
     "execution_count": 8,
     "metadata": {},
     "output_type": "execute_result"
    }
   ],
   "source": [
    "f(-2.5)"
   ]
  },
  {
   "cell_type": "code",
   "execution_count": 9,
   "id": "67fa3f86-21a5-47f6-8054-69d54d1efe71",
   "metadata": {},
   "outputs": [
    {
     "data": {
      "text/plain": [
       "35.0"
      ]
     },
     "execution_count": 9,
     "metadata": {},
     "output_type": "execute_result"
    }
   ],
   "source": [
    "f(-2.25)"
   ]
  },
  {
   "cell_type": "code",
   "execution_count": 10,
   "id": "54c9ebcb-78f5-4dc9-84f7-378921a113a0",
   "metadata": {},
   "outputs": [
    {
     "data": {
      "text/plain": [
       "8003.000000000881"
      ]
     },
     "execution_count": 10,
     "metadata": {},
     "output_type": "execute_result"
    }
   ],
   "source": [
    "f(-2.001)"
   ]
  },
  {
   "cell_type": "code",
   "execution_count": 11,
   "id": "30a37d7e-fbc2-4aee-bbbc-982956f4990e",
   "metadata": {},
   "outputs": [
    {
     "data": {
      "text/plain": [
       "7999999341.077086"
      ]
     },
     "execution_count": 11,
     "metadata": {},
     "output_type": "execute_result"
    }
   ],
   "source": [
    "f(-2.000000001)"
   ]
  },
  {
   "cell_type": "markdown",
   "id": "b536de7a-b7d3-4c1c-877d-ffaddf443f28",
   "metadata": {},
   "source": [
    "Ser at når $x\\rightarrow -2^-$ så vil $f(x)\\rightarrow \\infty$ \n",
    "\n",
    "*når $x$ nærmar seg -2 frå venstresida funksjonsverdien gå mot  uendeleg*"
   ]
  },
  {
   "cell_type": "code",
   "execution_count": null,
   "id": "b2cd3944-4bce-43d3-b2a7-85e05f224869",
   "metadata": {},
   "outputs": [],
   "source": []
  }
 ],
 "metadata": {
  "kernelspec": {
   "display_name": "Python 3 (ipykernel)",
   "language": "python",
   "name": "python3"
  },
  "language_info": {
   "codemirror_mode": {
    "name": "ipython",
    "version": 3
   },
   "file_extension": ".py",
   "mimetype": "text/x-python",
   "name": "python",
   "nbconvert_exporter": "python",
   "pygments_lexer": "ipython3",
   "version": "3.8.13"
  }
 },
 "nbformat": 4,
 "nbformat_minor": 5
}
